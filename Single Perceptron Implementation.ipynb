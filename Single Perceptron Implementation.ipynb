{
  "cells": [
    {
      "cell_type": "markdown",
      "metadata": {
        "id": "-gm9m6XnFRuL"
      },
      "source": [
        "## Aim: Implementation of Single Perceptron and Creation of Logic Gates."
      ]
    },
    {
      "cell_type": "code",
      "execution_count": null,
      "metadata": {
        "id": "ZrLdXIt_FGfR"
      },
      "outputs": [],
      "source": [
        "#Single Perceptron Implementation"
      ]
    },
    {
      "cell_type": "code",
      "execution_count": null,
      "metadata": {
        "id": "1iIoBbTkFOh2"
      },
      "outputs": [],
      "source": [
        "#inputs\n",
        "x_input=[0.1,0.2,0.3]\n",
        "w_weight=[0.1,0.9,0.5]\n",
        "threshold=0.2"
      ]
    },
    {
      "cell_type": "code",
      "execution_count": null,
      "metadata": {
        "id": "kSKxldOeGPES"
      },
      "outputs": [],
      "source": [
        "#activation function\n",
        "def step(weighted_sum):\n",
        "    if weighted_sum >= threshold:\n",
        "        return 1\n",
        "    else:\n",
        "        return 0"
      ]
    },
    {
      "cell_type": "code",
      "execution_count": null,
      "metadata": {
        "id": "LA3bmmLTGbk5"
      },
      "outputs": [],
      "source": [
        "#calculation of the perceptron\n",
        "def perceptron():\n",
        "    weighted_sum=0\n",
        "    for x,w in zip(x_input,w_weight):\n",
        "        weighted_sum +=x*w\n",
        "        print(weighted_sum)\n",
        "    return step(weighted_sum)"
      ]
    },
    {
      "cell_type": "code",
      "execution_count": null,
      "metadata": {
        "colab": {
          "base_uri": "https://localhost:8080/"
        },
        "id": "rEdq5zLFGjYE",
        "outputId": "5209e5b9-1e9d-4f50-8d85-c04d2e19cda1"
      },
      "outputs": [
        {
          "name": "stdout",
          "output_type": "stream",
          "text": [
            "0.010000000000000002\n",
            "0.19000000000000003\n",
            "0.34\n",
            "output= 1\n"
          ]
        }
      ],
      "source": [
        "output=perceptron()\n",
        "print(\"output=\",output)\n",
        "#output"
      ]
    },
    {
      "cell_type": "markdown",
      "metadata": {
        "id": "36RJb6DQoVPH"
      },
      "source": [
        "#### Creation of Logic Gates"
      ]
    },
    {
      "cell_type": "code",
      "execution_count": null,
      "metadata": {
        "id": "V9LYyaNAJKpW"
      },
      "outputs": [],
      "source": [
        "#And gate\n",
        "x1_input=[0,0,1,1]\n",
        "x2_input=[0,1,0,1]\n",
        "weight=[1,1,1,1]\n",
        "bias=1"
      ]
    },
    {
      "cell_type": "code",
      "execution_count": null,
      "metadata": {
        "colab": {
          "base_uri": "https://localhost:8080/"
        },
        "id": "PUBYVjQtJYOa",
        "outputId": "75188c29-5000-4c02-a13d-3450fed6f389"
      },
      "outputs": [
        {
          "name": "stdout",
          "output_type": "stream",
          "text": [
            "[0, 1, 1, 2]\n"
          ]
        }
      ],
      "source": [
        "s=0\n",
        "x_sum=[]\n",
        "for x1,x2 in zip(x1_input,x2_input):\n",
        "  s=x1+x2\n",
        "  x_sum.append(s)\n",
        "print(x_sum)"
      ]
    },
    {
      "cell_type": "code",
      "execution_count": null,
      "metadata": {
        "id": "k4DWqjY7JbvK"
      },
      "outputs": [],
      "source": [
        "def perceptron():\n",
        "    result=[]\n",
        "    for x,w in zip(x_sum,weight):\n",
        "        weighted_sum=0\n",
        "        weighted_sum =weighted_sum + x*w+bias\n",
        "        result.append(weighted_sum)\n",
        "    return step(result)"
      ]
    },
    {
      "cell_type": "code",
      "execution_count": null,
      "metadata": {
        "id": "0VOYGTl1JiPk"
      },
      "outputs": [],
      "source": [
        "output=[]\n",
        "def step(result):\n",
        "  for i in result:\n",
        "    if i >= 3:\n",
        "        output.append(1)\n",
        "    else:\n",
        "        output.append(0)\n",
        "  return output"
      ]
    },
    {
      "cell_type": "code",
      "execution_count": null,
      "metadata": {
        "colab": {
          "base_uri": "https://localhost:8080/"
        },
        "id": "U9MZZsWaJm_w",
        "outputId": "edf91977-3617-40b6-bd02-1dffe8a47068"
      },
      "outputs": [
        {
          "name": "stdout",
          "output_type": "stream",
          "text": [
            "[0, 0, 0, 1]\n"
          ]
        }
      ],
      "source": [
        "x=perceptron()\n",
        "print(x)"
      ]
    },
    {
      "cell_type": "code",
      "execution_count": null,
      "metadata": {
        "id": "eQi3g2bAJpZQ"
      },
      "outputs": [],
      "source": [
        "#OR gate\n",
        "output=[]\n",
        "def step(result):\n",
        "  for i in result:\n",
        "    if i >= 2:\n",
        "        output.append(1)\n",
        "    else:\n",
        "        output.append(0)\n",
        "  return output"
      ]
    },
    {
      "cell_type": "code",
      "execution_count": null,
      "metadata": {
        "colab": {
          "base_uri": "https://localhost:8080/"
        },
        "id": "3UzbCyM0K0mR",
        "outputId": "b30884ac-988c-4a76-b70f-c78d48d0b7c5"
      },
      "outputs": [
        {
          "name": "stdout",
          "output_type": "stream",
          "text": [
            "[0, 1, 1, 1]\n"
          ]
        }
      ],
      "source": [
        "x=perceptron()\n",
        "print(x)"
      ]
    },
    {
      "cell_type": "code",
      "execution_count": null,
      "metadata": {
        "colab": {
          "base_uri": "https://localhost:8080/"
        },
        "id": "tDW6ZQpGrsLU",
        "outputId": "c57c068e-2c1e-4a56-91e6-aee08279c9cd"
      },
      "outputs": [
        {
          "name": "stdout",
          "output_type": "stream",
          "text": [
            "Testing NOT gate without bias:\n",
            "Input: 0, Predicted Output: 0\n",
            "Input: 1, Predicted Output: 1\n"
          ]
        }
      ],
      "source": [
        "import numpy as np\n",
        "\n",
        "def perceptron_not_gate(input):\n",
        "    weight = -1\n",
        "    weighted_sum = input * weight\n",
        "    output = 1 if weighted_sum < 0 else 0\n",
        "    return output\n",
        "\n",
        "# Input\n",
        "input = np.array([0, 1])\n",
        "\n",
        "print(\"Testing NOT gate without bias:\")\n",
        "for value in input:\n",
        "    prediction = perceptron_not_gate(value)\n",
        "    print(f\"Input: {value}, Predicted Output: {prediction}\")\n"
      ]
    },
    {
      "cell_type": "code",
      "execution_count": null,
      "metadata": {
        "colab": {
          "base_uri": "https://localhost:8080/"
        },
        "id": "w8tCkVEgP7gT",
        "outputId": "e97af4ac-5651-481f-b806-e701d19eb914"
      },
      "outputs": [
        {
          "name": "stdout",
          "output_type": "stream",
          "text": [
            "Testing NOR gate without bias:\n",
            "Input: [0 0], Predicted Output: 1\n",
            "Input: [0 1], Predicted Output: 0\n",
            "Input: [1 0], Predicted Output: 0\n",
            "Input: [1 1], Predicted Output: 0\n"
          ]
        }
      ],
      "source": [
        "#NOR Gate\n",
        "import numpy as np\n",
        "\n",
        "def perceptron_nor_gate(inputs):\n",
        "    weights = np.array([0.5, 0.5])\n",
        "    weighted_sum = np.dot(inputs, weights)\n",
        "    output = 1 if weighted_sum <= 0 else 0\n",
        "    return output\n",
        "\n",
        "#input\n",
        "input = np.array([[0, 0], [0, 1], [1, 0], [1, 1]])\n",
        "\n",
        "print(\"Testing NOR gate without bias:\")\n",
        "for input_set in input:\n",
        "    prediction = perceptron_nor_gate(input_set)\n",
        "    print(f\"Input: {input_set}, Predicted Output: {prediction}\")"
      ]
    },
    {
      "cell_type": "code",
      "execution_count": null,
      "metadata": {
        "id": "pRSgVD0EsJ0S"
      },
      "outputs": [],
      "source": []
    },
    {
      "cell_type": "code",
      "execution_count": null,
      "metadata": {
        "colab": {
          "base_uri": "https://localhost:8080/"
        },
        "id": "QftnzUOWpXjK",
        "outputId": "82b2cad2-4556-4a74-9535-2ebb92a0add0"
      },
      "outputs": [
        {
          "name": "stdout",
          "output_type": "stream",
          "text": [
            "Testing NAND gate without bias:\n",
            "Input: [0 0], Predicted Output: 1\n",
            "Input: [0 1], Predicted Output: 1\n",
            "Input: [1 0], Predicted Output: 1\n",
            "Input: [1 1], Predicted Output: 0\n"
          ]
        }
      ],
      "source": [
        "#NAND Gate\n",
        "\n",
        "def perceptron_nand_gate(inputs):\n",
        "    weights = np.array([0.5, 0.5])\n",
        "    weighted_sum = np.dot(inputs, weights)\n",
        "    output = 1 if weighted_sum <1 else 0\n",
        "    return output\n",
        "\n",
        "inputs = np.array([[0, 0], [0, 1], [1, 0], [1, 1]])\n",
        "\n",
        "print(\"Testing NAND gate without bias:\")\n",
        "for input_set in inputs:\n",
        "    prediction = perceptron_nand_gate(input_set)\n",
        "    print(f\"Input: {input_set}, Predicted Output: {prediction}\")"
      ]
    },
    {
      "cell_type": "markdown",
      "metadata": {
        "id": "wtboqce5qADh"
      },
      "source": [
        "####  Implement Perceptron learning algorithm for classification of following points in to two classes C1,C2\n"
      ]
    },
    {
      "cell_type": "code",
      "execution_count": null,
      "metadata": {
        "id": "WRtjjbCqpqNt"
      },
      "outputs": [],
      "source": [
        "points = {'P0': np.array([-1, -1, -1]), 'P1': np.array([-1, -1, 1]), 'P2': np.array([-1, 1, -1]),\n",
        "          'P3':np.array([-1, 1, 1]), 'P4': np.array([1, -1, -1]), 'P5': np.array([1, -1, 1]),\n",
        "          'P6': np.array([1, 1, -1]), 'P7': np.array([1, 1, 1])}"
      ]
    },
    {
      "cell_type": "code",
      "execution_count": null,
      "metadata": {
        "colab": {
          "base_uri": "https://localhost:8080/"
        },
        "id": "Jn9EAmtPqItm",
        "outputId": "73027659-c3cb-4125-ef5f-48f9690a8b5e"
      },
      "outputs": [
        {
          "name": "stdout",
          "output_type": "stream",
          "text": [
            "[0. 0. 0.]\n"
          ]
        }
      ],
      "source": [
        "C1 = ['P7']\n",
        "C2 =['P0', 'P1', 'P2', 'P3', 'P4', 'P5', 'P6']\n",
        "\n",
        "weights = np.zeros(len(points['P0']))\n",
        "bias = 0\n",
        "print(weights)"
      ]
    },
    {
      "cell_type": "code",
      "execution_count": null,
      "metadata": {
        "id": "iqC041jgqtJ-"
      },
      "outputs": [],
      "source": [
        "learning_rate = 1\n",
        "epochs = 1000"
      ]
    },
    {
      "cell_type": "code",
      "execution_count": null,
      "metadata": {
        "id": "PK3QJgupq0Zo"
      },
      "outputs": [],
      "source": [
        "for epoch in range(epochs):\n",
        "    for point in C2:\n",
        "        x = points[point]\n",
        "        y = 1\n",
        "\n",
        "        summation = np.dot(weights, x) + bias\n",
        "\n",
        "        if summation<=0:\n",
        "            weights += learning_rate * x\n",
        "            bias += learning_rate"
      ]
    },
    {
      "cell_type": "code",
      "execution_count": null,
      "metadata": {
        "colab": {
          "base_uri": "https://localhost:8080/"
        },
        "id": "lQ7qKuR-q2hV",
        "outputId": "61f9d0a8-eed4-4dc8-f27e-1183cee24c66"
      },
      "outputs": [
        {
          "name": "stdout",
          "output_type": "stream",
          "text": [
            "[-1. -1. -1.]\n",
            "3\n"
          ]
        }
      ],
      "source": [
        "print(weights)\n",
        "print(bias)"
      ]
    },
    {
      "cell_type": "code",
      "execution_count": null,
      "metadata": {
        "id": "3s14IemDq5x9"
      },
      "outputs": [],
      "source": [
        "new_point = np.array([1, 1, 1])\n",
        "summation = np.dot(weights, new_point) + bias"
      ]
    },
    {
      "cell_type": "code",
      "execution_count": null,
      "metadata": {
        "colab": {
          "base_uri": "https://localhost:8080/"
        },
        "id": "cBZzlGDorEdr",
        "outputId": "fa1b6346-b3c7-4f2c-fa1e-3bb7ddc22551"
      },
      "outputs": [
        {
          "name": "stdout",
          "output_type": "stream",
          "text": [
            "The new point [1 1 1] belongs to class C1\n"
          ]
        }
      ],
      "source": [
        "if(summation>0):\n",
        "    print(f'The new point {new_point} belongs to class C2')\n",
        "else:\n",
        "     print(f'The new point {new_point} belongs to class C1')"
      ]
    },
    {
      "cell_type": "code",
      "execution_count": null,
      "metadata": {
        "id": "fJJgRH9krGOk"
      },
      "outputs": [],
      "source": [
        "new_point = np.array([1, -1, 1])\n",
        "summation = np.dot(weights, new_point) + bias"
      ]
    },
    {
      "cell_type": "code",
      "execution_count": null,
      "metadata": {
        "colab": {
          "base_uri": "https://localhost:8080/"
        },
        "id": "xb4UlLdlrKIR",
        "outputId": "f67e73ed-11fd-49b1-dd99-fef8bae201ac"
      },
      "outputs": [
        {
          "name": "stdout",
          "output_type": "stream",
          "text": [
            "The new point [ 1 -1  1] belongs to class C2\n"
          ]
        }
      ],
      "source": [
        "if(summation>0):\n",
        "    print(f'The new point {new_point} belongs to class C2')\n",
        "else:\n",
        "     print(f'The new point {new_point} belongs to class C1')"
      ]
    },
    {
      "cell_type": "markdown",
      "metadata": {
        "id": "y0hlLchkrMxb"
      },
      "source": [
        "#### Write a python program to find the number of linearly separable problems"
      ]
    },
    {
      "cell_type": "code",
      "execution_count": null,
      "metadata": {
        "colab": {
          "base_uri": "https://localhost:8080/"
        },
        "id": "LYmqDwe1rKeu",
        "outputId": "aca46c9a-b0c9-4791-afa0-8ce9756d077e"
      },
      "outputs": [
        {
          "name": "stdout",
          "output_type": "stream",
          "text": [
            "[0. 0. 0.]\n",
            "[-1. -1. -1.]\n",
            "[-2.  0.  0.]\n",
            "The binary classification problem is linearly separable.\n"
          ]
        }
      ],
      "source": [
        "def is_linearly_separable(points1):\n",
        "    labels = [1, 1, 1, 1, -1, -1, -1, -1]\n",
        "    weights = np.zeros(len(points1[0]))\n",
        "    print(weights)\n",
        "\n",
        "    for _ in range(1000):\n",
        "        misclassified = False\n",
        "\n",
        "        for i, point in enumerate(points1):\n",
        "            if np.dot(point, weights) * labels[i] <= 0:\n",
        "                weights += labels[i] * point\n",
        "                misclassified = True\n",
        "                print(weights)\n",
        "\n",
        "        if not misclassified:\n",
        "            return True\n",
        "\n",
        "points1 = [np.array([-1, -1, -1]), np.array([-1, -1, 1]), np.array([-1, 1, -1]),\n",
        "           np.array([-1, 1, 1]), np.array([1, -1, -1]), np.array([1, -1, 1]),\n",
        "          np.array([1, 1, -1]), np.array([1, 1, 1])]\n",
        "\n",
        "if is_linearly_separable(points1):\n",
        "    print(\"The binary classification problem is linearly separable.\")\n",
        "else:\n",
        "    print(\"The binary classification problem is not linearly separable.\")\n"
      ]
    }
  ],
  "metadata": {
    "colab": {
      "provenance": []
    },
    "kernelspec": {
      "display_name": "Python 3",
      "name": "python3"
    },
    "language_info": {
      "name": "python"
    }
  },
  "nbformat": 4,
  "nbformat_minor": 0
}
