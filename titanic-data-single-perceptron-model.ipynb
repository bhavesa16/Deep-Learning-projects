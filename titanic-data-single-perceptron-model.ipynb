{
 "cells": [
  {
   "cell_type": "markdown",
   "id": "0c04d38c",
   "metadata": {
    "id": "aQ8CQR4-vsgQ",
    "papermill": {
     "duration": 0.007411,
     "end_time": "2024-08-11T18:24:17.032729",
     "exception": false,
     "start_time": "2024-08-11T18:24:17.025318",
     "status": "completed"
    },
    "tags": []
   },
   "source": [
    "## Aim: Implementation of Single Perceptron for Titanic Dataset"
   ]
  },
  {
   "cell_type": "markdown",
   "id": "74f67091",
   "metadata": {
    "id": "HzgiWClR3aKl",
    "papermill": {
     "duration": 0.006674,
     "end_time": "2024-08-11T18:24:17.046320",
     "exception": false,
     "start_time": "2024-08-11T18:24:17.039646",
     "status": "completed"
    },
    "tags": []
   },
   "source": [
    "#### 1. Data Preparation\n"
   ]
  },
  {
   "cell_type": "code",
   "execution_count": 1,
   "id": "38b4f5db",
   "metadata": {
    "execution": {
     "iopub.execute_input": "2024-08-11T18:24:17.063516Z",
     "iopub.status.busy": "2024-08-11T18:24:17.062726Z",
     "iopub.status.idle": "2024-08-11T18:24:17.811054Z",
     "shell.execute_reply": "2024-08-11T18:24:17.809984Z"
    },
    "id": "CFBSzfJNvx5O",
    "papermill": {
     "duration": 0.760656,
     "end_time": "2024-08-11T18:24:17.813672",
     "exception": false,
     "start_time": "2024-08-11T18:24:17.053016",
     "status": "completed"
    },
    "tags": []
   },
   "outputs": [],
   "source": [
    "import pandas as pd\n",
    "df=pd.read_csv('/kaggle/input/titanic-dataset/Titanic-Dataset.csv')"
   ]
  },
  {
   "cell_type": "code",
   "execution_count": 2,
   "id": "67378965",
   "metadata": {
    "execution": {
     "iopub.execute_input": "2024-08-11T18:24:17.832872Z",
     "iopub.status.busy": "2024-08-11T18:24:17.832509Z",
     "iopub.status.idle": "2024-08-11T18:24:17.864116Z",
     "shell.execute_reply": "2024-08-11T18:24:17.863133Z"
    },
    "id": "8WpqmxuNwIVr",
    "outputId": "7e0d20b3-7bd8-4363-c9ed-abbb0841d428",
    "papermill": {
     "duration": 0.043734,
     "end_time": "2024-08-11T18:24:17.866397",
     "exception": false,
     "start_time": "2024-08-11T18:24:17.822663",
     "status": "completed"
    },
    "tags": []
   },
   "outputs": [
    {
     "data": {
      "text/html": [
       "<div>\n",
       "<style scoped>\n",
       "    .dataframe tbody tr th:only-of-type {\n",
       "        vertical-align: middle;\n",
       "    }\n",
       "\n",
       "    .dataframe tbody tr th {\n",
       "        vertical-align: top;\n",
       "    }\n",
       "\n",
       "    .dataframe thead th {\n",
       "        text-align: right;\n",
       "    }\n",
       "</style>\n",
       "<table border=\"1\" class=\"dataframe\">\n",
       "  <thead>\n",
       "    <tr style=\"text-align: right;\">\n",
       "      <th></th>\n",
       "      <th>PassengerId</th>\n",
       "      <th>Survived</th>\n",
       "      <th>Pclass</th>\n",
       "      <th>Name</th>\n",
       "      <th>Sex</th>\n",
       "      <th>Age</th>\n",
       "      <th>SibSp</th>\n",
       "      <th>Parch</th>\n",
       "      <th>Ticket</th>\n",
       "      <th>Fare</th>\n",
       "      <th>Cabin</th>\n",
       "      <th>Embarked</th>\n",
       "    </tr>\n",
       "  </thead>\n",
       "  <tbody>\n",
       "    <tr>\n",
       "      <th>0</th>\n",
       "      <td>1</td>\n",
       "      <td>0</td>\n",
       "      <td>3</td>\n",
       "      <td>Braund, Mr. Owen Harris</td>\n",
       "      <td>male</td>\n",
       "      <td>22.0</td>\n",
       "      <td>1</td>\n",
       "      <td>0</td>\n",
       "      <td>A/5 21171</td>\n",
       "      <td>7.2500</td>\n",
       "      <td>NaN</td>\n",
       "      <td>S</td>\n",
       "    </tr>\n",
       "    <tr>\n",
       "      <th>1</th>\n",
       "      <td>2</td>\n",
       "      <td>1</td>\n",
       "      <td>1</td>\n",
       "      <td>Cumings, Mrs. John Bradley (Florence Briggs Th...</td>\n",
       "      <td>female</td>\n",
       "      <td>38.0</td>\n",
       "      <td>1</td>\n",
       "      <td>0</td>\n",
       "      <td>PC 17599</td>\n",
       "      <td>71.2833</td>\n",
       "      <td>C85</td>\n",
       "      <td>C</td>\n",
       "    </tr>\n",
       "    <tr>\n",
       "      <th>2</th>\n",
       "      <td>3</td>\n",
       "      <td>1</td>\n",
       "      <td>3</td>\n",
       "      <td>Heikkinen, Miss. Laina</td>\n",
       "      <td>female</td>\n",
       "      <td>26.0</td>\n",
       "      <td>0</td>\n",
       "      <td>0</td>\n",
       "      <td>STON/O2. 3101282</td>\n",
       "      <td>7.9250</td>\n",
       "      <td>NaN</td>\n",
       "      <td>S</td>\n",
       "    </tr>\n",
       "    <tr>\n",
       "      <th>3</th>\n",
       "      <td>4</td>\n",
       "      <td>1</td>\n",
       "      <td>1</td>\n",
       "      <td>Futrelle, Mrs. Jacques Heath (Lily May Peel)</td>\n",
       "      <td>female</td>\n",
       "      <td>35.0</td>\n",
       "      <td>1</td>\n",
       "      <td>0</td>\n",
       "      <td>113803</td>\n",
       "      <td>53.1000</td>\n",
       "      <td>C123</td>\n",
       "      <td>S</td>\n",
       "    </tr>\n",
       "    <tr>\n",
       "      <th>4</th>\n",
       "      <td>5</td>\n",
       "      <td>0</td>\n",
       "      <td>3</td>\n",
       "      <td>Allen, Mr. William Henry</td>\n",
       "      <td>male</td>\n",
       "      <td>35.0</td>\n",
       "      <td>0</td>\n",
       "      <td>0</td>\n",
       "      <td>373450</td>\n",
       "      <td>8.0500</td>\n",
       "      <td>NaN</td>\n",
       "      <td>S</td>\n",
       "    </tr>\n",
       "    <tr>\n",
       "      <th>...</th>\n",
       "      <td>...</td>\n",
       "      <td>...</td>\n",
       "      <td>...</td>\n",
       "      <td>...</td>\n",
       "      <td>...</td>\n",
       "      <td>...</td>\n",
       "      <td>...</td>\n",
       "      <td>...</td>\n",
       "      <td>...</td>\n",
       "      <td>...</td>\n",
       "      <td>...</td>\n",
       "      <td>...</td>\n",
       "    </tr>\n",
       "    <tr>\n",
       "      <th>886</th>\n",
       "      <td>887</td>\n",
       "      <td>0</td>\n",
       "      <td>2</td>\n",
       "      <td>Montvila, Rev. Juozas</td>\n",
       "      <td>male</td>\n",
       "      <td>27.0</td>\n",
       "      <td>0</td>\n",
       "      <td>0</td>\n",
       "      <td>211536</td>\n",
       "      <td>13.0000</td>\n",
       "      <td>NaN</td>\n",
       "      <td>S</td>\n",
       "    </tr>\n",
       "    <tr>\n",
       "      <th>887</th>\n",
       "      <td>888</td>\n",
       "      <td>1</td>\n",
       "      <td>1</td>\n",
       "      <td>Graham, Miss. Margaret Edith</td>\n",
       "      <td>female</td>\n",
       "      <td>19.0</td>\n",
       "      <td>0</td>\n",
       "      <td>0</td>\n",
       "      <td>112053</td>\n",
       "      <td>30.0000</td>\n",
       "      <td>B42</td>\n",
       "      <td>S</td>\n",
       "    </tr>\n",
       "    <tr>\n",
       "      <th>888</th>\n",
       "      <td>889</td>\n",
       "      <td>0</td>\n",
       "      <td>3</td>\n",
       "      <td>Johnston, Miss. Catherine Helen \"Carrie\"</td>\n",
       "      <td>female</td>\n",
       "      <td>NaN</td>\n",
       "      <td>1</td>\n",
       "      <td>2</td>\n",
       "      <td>W./C. 6607</td>\n",
       "      <td>23.4500</td>\n",
       "      <td>NaN</td>\n",
       "      <td>S</td>\n",
       "    </tr>\n",
       "    <tr>\n",
       "      <th>889</th>\n",
       "      <td>890</td>\n",
       "      <td>1</td>\n",
       "      <td>1</td>\n",
       "      <td>Behr, Mr. Karl Howell</td>\n",
       "      <td>male</td>\n",
       "      <td>26.0</td>\n",
       "      <td>0</td>\n",
       "      <td>0</td>\n",
       "      <td>111369</td>\n",
       "      <td>30.0000</td>\n",
       "      <td>C148</td>\n",
       "      <td>C</td>\n",
       "    </tr>\n",
       "    <tr>\n",
       "      <th>890</th>\n",
       "      <td>891</td>\n",
       "      <td>0</td>\n",
       "      <td>3</td>\n",
       "      <td>Dooley, Mr. Patrick</td>\n",
       "      <td>male</td>\n",
       "      <td>32.0</td>\n",
       "      <td>0</td>\n",
       "      <td>0</td>\n",
       "      <td>370376</td>\n",
       "      <td>7.7500</td>\n",
       "      <td>NaN</td>\n",
       "      <td>Q</td>\n",
       "    </tr>\n",
       "  </tbody>\n",
       "</table>\n",
       "<p>891 rows × 12 columns</p>\n",
       "</div>"
      ],
      "text/plain": [
       "     PassengerId  Survived  Pclass  \\\n",
       "0              1         0       3   \n",
       "1              2         1       1   \n",
       "2              3         1       3   \n",
       "3              4         1       1   \n",
       "4              5         0       3   \n",
       "..           ...       ...     ...   \n",
       "886          887         0       2   \n",
       "887          888         1       1   \n",
       "888          889         0       3   \n",
       "889          890         1       1   \n",
       "890          891         0       3   \n",
       "\n",
       "                                                  Name     Sex   Age  SibSp  \\\n",
       "0                              Braund, Mr. Owen Harris    male  22.0      1   \n",
       "1    Cumings, Mrs. John Bradley (Florence Briggs Th...  female  38.0      1   \n",
       "2                               Heikkinen, Miss. Laina  female  26.0      0   \n",
       "3         Futrelle, Mrs. Jacques Heath (Lily May Peel)  female  35.0      1   \n",
       "4                             Allen, Mr. William Henry    male  35.0      0   \n",
       "..                                                 ...     ...   ...    ...   \n",
       "886                              Montvila, Rev. Juozas    male  27.0      0   \n",
       "887                       Graham, Miss. Margaret Edith  female  19.0      0   \n",
       "888           Johnston, Miss. Catherine Helen \"Carrie\"  female   NaN      1   \n",
       "889                              Behr, Mr. Karl Howell    male  26.0      0   \n",
       "890                                Dooley, Mr. Patrick    male  32.0      0   \n",
       "\n",
       "     Parch            Ticket     Fare Cabin Embarked  \n",
       "0        0         A/5 21171   7.2500   NaN        S  \n",
       "1        0          PC 17599  71.2833   C85        C  \n",
       "2        0  STON/O2. 3101282   7.9250   NaN        S  \n",
       "3        0            113803  53.1000  C123        S  \n",
       "4        0            373450   8.0500   NaN        S  \n",
       "..     ...               ...      ...   ...      ...  \n",
       "886      0            211536  13.0000   NaN        S  \n",
       "887      0            112053  30.0000   B42        S  \n",
       "888      2        W./C. 6607  23.4500   NaN        S  \n",
       "889      0            111369  30.0000  C148        C  \n",
       "890      0            370376   7.7500   NaN        Q  \n",
       "\n",
       "[891 rows x 12 columns]"
      ]
     },
     "execution_count": 2,
     "metadata": {},
     "output_type": "execute_result"
    }
   ],
   "source": [
    "df"
   ]
  },
  {
   "cell_type": "code",
   "execution_count": 3,
   "id": "396647aa",
   "metadata": {
    "execution": {
     "iopub.execute_input": "2024-08-11T18:24:17.883171Z",
     "iopub.status.busy": "2024-08-11T18:24:17.882558Z",
     "iopub.status.idle": "2024-08-11T18:24:17.892674Z",
     "shell.execute_reply": "2024-08-11T18:24:17.891695Z"
    },
    "id": "bCc80umJwKMn",
    "outputId": "3bf6e7f4-9947-4dea-cf59-e0bc4712152e",
    "papermill": {
     "duration": 0.020982,
     "end_time": "2024-08-11T18:24:17.894790",
     "exception": false,
     "start_time": "2024-08-11T18:24:17.873808",
     "status": "completed"
    },
    "tags": []
   },
   "outputs": [
    {
     "data": {
      "text/plain": [
       "PassengerId      0\n",
       "Survived         0\n",
       "Pclass           0\n",
       "Name             0\n",
       "Sex              0\n",
       "Age            177\n",
       "SibSp            0\n",
       "Parch            0\n",
       "Ticket           0\n",
       "Fare             0\n",
       "Cabin          687\n",
       "Embarked         2\n",
       "dtype: int64"
      ]
     },
     "execution_count": 3,
     "metadata": {},
     "output_type": "execute_result"
    }
   ],
   "source": [
    "df.isnull().sum()"
   ]
  },
  {
   "cell_type": "code",
   "execution_count": 4,
   "id": "02bbf7f5",
   "metadata": {
    "execution": {
     "iopub.execute_input": "2024-08-11T18:24:17.911892Z",
     "iopub.status.busy": "2024-08-11T18:24:17.911246Z",
     "iopub.status.idle": "2024-08-11T18:24:17.917157Z",
     "shell.execute_reply": "2024-08-11T18:24:17.916301Z"
    },
    "id": "g78vFwdMwN-i",
    "papermill": {
     "duration": 0.016808,
     "end_time": "2024-08-11T18:24:17.919242",
     "exception": false,
     "start_time": "2024-08-11T18:24:17.902434",
     "status": "completed"
    },
    "tags": []
   },
   "outputs": [],
   "source": [
    "df=df.dropna() # Handling missing values"
   ]
  },
  {
   "cell_type": "code",
   "execution_count": 5,
   "id": "932f8d78",
   "metadata": {
    "execution": {
     "iopub.execute_input": "2024-08-11T18:24:17.936429Z",
     "iopub.status.busy": "2024-08-11T18:24:17.935573Z",
     "iopub.status.idle": "2024-08-11T18:24:17.943623Z",
     "shell.execute_reply": "2024-08-11T18:24:17.942651Z"
    },
    "id": "tgUs5Y1twWpT",
    "outputId": "92bef2cc-13c7-445a-98b7-f4a6cd2ba4c9",
    "papermill": {
     "duration": 0.019139,
     "end_time": "2024-08-11T18:24:17.945939",
     "exception": false,
     "start_time": "2024-08-11T18:24:17.926800",
     "status": "completed"
    },
    "tags": []
   },
   "outputs": [
    {
     "data": {
      "text/plain": [
       "PassengerId    0\n",
       "Survived       0\n",
       "Pclass         0\n",
       "Name           0\n",
       "Sex            0\n",
       "Age            0\n",
       "SibSp          0\n",
       "Parch          0\n",
       "Ticket         0\n",
       "Fare           0\n",
       "Cabin          0\n",
       "Embarked       0\n",
       "dtype: int64"
      ]
     },
     "execution_count": 5,
     "metadata": {},
     "output_type": "execute_result"
    }
   ],
   "source": [
    "df.isnull().sum()"
   ]
  },
  {
   "cell_type": "code",
   "execution_count": 6,
   "id": "c9fde3fd",
   "metadata": {
    "execution": {
     "iopub.execute_input": "2024-08-11T18:24:17.965020Z",
     "iopub.status.busy": "2024-08-11T18:24:17.964142Z",
     "iopub.status.idle": "2024-08-11T18:24:17.968890Z",
     "shell.execute_reply": "2024-08-11T18:24:17.967881Z"
    },
    "papermill": {
     "duration": 0.017041,
     "end_time": "2024-08-11T18:24:17.970913",
     "exception": false,
     "start_time": "2024-08-11T18:24:17.953872",
     "status": "completed"
    },
    "tags": []
   },
   "outputs": [],
   "source": [
    "import warnings \n",
    "warnings.filterwarnings('ignore')"
   ]
  },
  {
   "cell_type": "code",
   "execution_count": 7,
   "id": "334a20b7",
   "metadata": {
    "execution": {
     "iopub.execute_input": "2024-08-11T18:24:17.987719Z",
     "iopub.status.busy": "2024-08-11T18:24:17.987338Z",
     "iopub.status.idle": "2024-08-11T18:24:17.993915Z",
     "shell.execute_reply": "2024-08-11T18:24:17.993040Z"
    },
    "id": "Z_gPdZNewZD2",
    "outputId": "5f521437-0011-40b8-9f1c-b222b6c6d0f9",
    "papermill": {
     "duration": 0.017337,
     "end_time": "2024-08-11T18:24:17.995981",
     "exception": false,
     "start_time": "2024-08-11T18:24:17.978644",
     "status": "completed"
    },
    "tags": []
   },
   "outputs": [],
   "source": [
    "df['Sex'] = df['Sex'].replace({'female': 0, 'male': 1})"
   ]
  },
  {
   "cell_type": "code",
   "execution_count": 8,
   "id": "8afe61d2",
   "metadata": {
    "execution": {
     "iopub.execute_input": "2024-08-11T18:24:18.012884Z",
     "iopub.status.busy": "2024-08-11T18:24:18.012537Z",
     "iopub.status.idle": "2024-08-11T18:24:18.018479Z",
     "shell.execute_reply": "2024-08-11T18:24:18.017470Z"
    },
    "id": "E8pxMYqQwjmV",
    "outputId": "30411e11-6cf4-4b36-b44c-f87116f18853",
    "papermill": {
     "duration": 0.016807,
     "end_time": "2024-08-11T18:24:18.020612",
     "exception": false,
     "start_time": "2024-08-11T18:24:18.003805",
     "status": "completed"
    },
    "tags": []
   },
   "outputs": [],
   "source": [
    "df.drop(['Name','Cabin','PassengerId', 'Ticket', 'Parch', 'Fare','Embarked'],axis=1,inplace=True)"
   ]
  },
  {
   "cell_type": "code",
   "execution_count": 9,
   "id": "cd8460bd",
   "metadata": {
    "execution": {
     "iopub.execute_input": "2024-08-11T18:24:18.037788Z",
     "iopub.status.busy": "2024-08-11T18:24:18.037087Z",
     "iopub.status.idle": "2024-08-11T18:24:18.049078Z",
     "shell.execute_reply": "2024-08-11T18:24:18.048181Z"
    },
    "id": "sYDodhiKw9C3",
    "outputId": "bc4294f5-6944-4aa4-86b2-796767451963",
    "papermill": {
     "duration": 0.022761,
     "end_time": "2024-08-11T18:24:18.051100",
     "exception": false,
     "start_time": "2024-08-11T18:24:18.028339",
     "status": "completed"
    },
    "tags": []
   },
   "outputs": [
    {
     "data": {
      "text/html": [
       "<div>\n",
       "<style scoped>\n",
       "    .dataframe tbody tr th:only-of-type {\n",
       "        vertical-align: middle;\n",
       "    }\n",
       "\n",
       "    .dataframe tbody tr th {\n",
       "        vertical-align: top;\n",
       "    }\n",
       "\n",
       "    .dataframe thead th {\n",
       "        text-align: right;\n",
       "    }\n",
       "</style>\n",
       "<table border=\"1\" class=\"dataframe\">\n",
       "  <thead>\n",
       "    <tr style=\"text-align: right;\">\n",
       "      <th></th>\n",
       "      <th>Survived</th>\n",
       "      <th>Pclass</th>\n",
       "      <th>Sex</th>\n",
       "      <th>Age</th>\n",
       "      <th>SibSp</th>\n",
       "    </tr>\n",
       "  </thead>\n",
       "  <tbody>\n",
       "    <tr>\n",
       "      <th>1</th>\n",
       "      <td>1</td>\n",
       "      <td>1</td>\n",
       "      <td>0</td>\n",
       "      <td>38.0</td>\n",
       "      <td>1</td>\n",
       "    </tr>\n",
       "    <tr>\n",
       "      <th>3</th>\n",
       "      <td>1</td>\n",
       "      <td>1</td>\n",
       "      <td>0</td>\n",
       "      <td>35.0</td>\n",
       "      <td>1</td>\n",
       "    </tr>\n",
       "    <tr>\n",
       "      <th>6</th>\n",
       "      <td>0</td>\n",
       "      <td>1</td>\n",
       "      <td>1</td>\n",
       "      <td>54.0</td>\n",
       "      <td>0</td>\n",
       "    </tr>\n",
       "    <tr>\n",
       "      <th>10</th>\n",
       "      <td>1</td>\n",
       "      <td>3</td>\n",
       "      <td>0</td>\n",
       "      <td>4.0</td>\n",
       "      <td>1</td>\n",
       "    </tr>\n",
       "    <tr>\n",
       "      <th>11</th>\n",
       "      <td>1</td>\n",
       "      <td>1</td>\n",
       "      <td>0</td>\n",
       "      <td>58.0</td>\n",
       "      <td>0</td>\n",
       "    </tr>\n",
       "    <tr>\n",
       "      <th>...</th>\n",
       "      <td>...</td>\n",
       "      <td>...</td>\n",
       "      <td>...</td>\n",
       "      <td>...</td>\n",
       "      <td>...</td>\n",
       "    </tr>\n",
       "    <tr>\n",
       "      <th>871</th>\n",
       "      <td>1</td>\n",
       "      <td>1</td>\n",
       "      <td>0</td>\n",
       "      <td>47.0</td>\n",
       "      <td>1</td>\n",
       "    </tr>\n",
       "    <tr>\n",
       "      <th>872</th>\n",
       "      <td>0</td>\n",
       "      <td>1</td>\n",
       "      <td>1</td>\n",
       "      <td>33.0</td>\n",
       "      <td>0</td>\n",
       "    </tr>\n",
       "    <tr>\n",
       "      <th>879</th>\n",
       "      <td>1</td>\n",
       "      <td>1</td>\n",
       "      <td>0</td>\n",
       "      <td>56.0</td>\n",
       "      <td>0</td>\n",
       "    </tr>\n",
       "    <tr>\n",
       "      <th>887</th>\n",
       "      <td>1</td>\n",
       "      <td>1</td>\n",
       "      <td>0</td>\n",
       "      <td>19.0</td>\n",
       "      <td>0</td>\n",
       "    </tr>\n",
       "    <tr>\n",
       "      <th>889</th>\n",
       "      <td>1</td>\n",
       "      <td>1</td>\n",
       "      <td>1</td>\n",
       "      <td>26.0</td>\n",
       "      <td>0</td>\n",
       "    </tr>\n",
       "  </tbody>\n",
       "</table>\n",
       "<p>183 rows × 5 columns</p>\n",
       "</div>"
      ],
      "text/plain": [
       "     Survived  Pclass  Sex   Age  SibSp\n",
       "1           1       1    0  38.0      1\n",
       "3           1       1    0  35.0      1\n",
       "6           0       1    1  54.0      0\n",
       "10          1       3    0   4.0      1\n",
       "11          1       1    0  58.0      0\n",
       "..        ...     ...  ...   ...    ...\n",
       "871         1       1    0  47.0      1\n",
       "872         0       1    1  33.0      0\n",
       "879         1       1    0  56.0      0\n",
       "887         1       1    0  19.0      0\n",
       "889         1       1    1  26.0      0\n",
       "\n",
       "[183 rows x 5 columns]"
      ]
     },
     "execution_count": 9,
     "metadata": {},
     "output_type": "execute_result"
    }
   ],
   "source": [
    "df"
   ]
  },
  {
   "cell_type": "code",
   "execution_count": 10,
   "id": "24e8e63a",
   "metadata": {
    "execution": {
     "iopub.execute_input": "2024-08-11T18:24:18.068719Z",
     "iopub.status.busy": "2024-08-11T18:24:18.067978Z",
     "iopub.status.idle": "2024-08-11T18:24:19.219402Z",
     "shell.execute_reply": "2024-08-11T18:24:19.218424Z"
    },
    "id": "5mkFNVvUw_27",
    "papermill": {
     "duration": 1.163007,
     "end_time": "2024-08-11T18:24:19.221939",
     "exception": false,
     "start_time": "2024-08-11T18:24:18.058932",
     "status": "completed"
    },
    "tags": []
   },
   "outputs": [],
   "source": [
    "from sklearn.model_selection import train_test_split"
   ]
  },
  {
   "cell_type": "code",
   "execution_count": 11,
   "id": "511806d0",
   "metadata": {
    "execution": {
     "iopub.execute_input": "2024-08-11T18:24:19.240001Z",
     "iopub.status.busy": "2024-08-11T18:24:19.239344Z",
     "iopub.status.idle": "2024-08-11T18:24:19.252445Z",
     "shell.execute_reply": "2024-08-11T18:24:19.251307Z"
    },
    "id": "sVHKg0IW0nMz",
    "papermill": {
     "duration": 0.025718,
     "end_time": "2024-08-11T18:24:19.255894",
     "exception": false,
     "start_time": "2024-08-11T18:24:19.230176",
     "status": "completed"
    },
    "tags": []
   },
   "outputs": [],
   "source": [
    "X = df.drop('Survived',axis=1)\n",
    "y = df['Survived']"
   ]
  },
  {
   "cell_type": "code",
   "execution_count": 12,
   "id": "c6371b31",
   "metadata": {
    "execution": {
     "iopub.execute_input": "2024-08-11T18:24:19.279574Z",
     "iopub.status.busy": "2024-08-11T18:24:19.278524Z",
     "iopub.status.idle": "2024-08-11T18:24:19.296248Z",
     "shell.execute_reply": "2024-08-11T18:24:19.295152Z"
    },
    "id": "pbYMLXRA1m9e",
    "outputId": "2b28915b-7417-4fd1-f194-4904af49863a",
    "papermill": {
     "duration": 0.033786,
     "end_time": "2024-08-11T18:24:19.298530",
     "exception": false,
     "start_time": "2024-08-11T18:24:19.264744",
     "status": "completed"
    },
    "tags": []
   },
   "outputs": [
    {
     "data": {
      "text/html": [
       "<div>\n",
       "<style scoped>\n",
       "    .dataframe tbody tr th:only-of-type {\n",
       "        vertical-align: middle;\n",
       "    }\n",
       "\n",
       "    .dataframe tbody tr th {\n",
       "        vertical-align: top;\n",
       "    }\n",
       "\n",
       "    .dataframe thead th {\n",
       "        text-align: right;\n",
       "    }\n",
       "</style>\n",
       "<table border=\"1\" class=\"dataframe\">\n",
       "  <thead>\n",
       "    <tr style=\"text-align: right;\">\n",
       "      <th></th>\n",
       "      <th>Pclass</th>\n",
       "      <th>Sex</th>\n",
       "      <th>Age</th>\n",
       "      <th>SibSp</th>\n",
       "    </tr>\n",
       "  </thead>\n",
       "  <tbody>\n",
       "    <tr>\n",
       "      <th>1</th>\n",
       "      <td>1</td>\n",
       "      <td>0</td>\n",
       "      <td>38.0</td>\n",
       "      <td>1</td>\n",
       "    </tr>\n",
       "    <tr>\n",
       "      <th>3</th>\n",
       "      <td>1</td>\n",
       "      <td>0</td>\n",
       "      <td>35.0</td>\n",
       "      <td>1</td>\n",
       "    </tr>\n",
       "    <tr>\n",
       "      <th>6</th>\n",
       "      <td>1</td>\n",
       "      <td>1</td>\n",
       "      <td>54.0</td>\n",
       "      <td>0</td>\n",
       "    </tr>\n",
       "    <tr>\n",
       "      <th>10</th>\n",
       "      <td>3</td>\n",
       "      <td>0</td>\n",
       "      <td>4.0</td>\n",
       "      <td>1</td>\n",
       "    </tr>\n",
       "    <tr>\n",
       "      <th>11</th>\n",
       "      <td>1</td>\n",
       "      <td>0</td>\n",
       "      <td>58.0</td>\n",
       "      <td>0</td>\n",
       "    </tr>\n",
       "    <tr>\n",
       "      <th>...</th>\n",
       "      <td>...</td>\n",
       "      <td>...</td>\n",
       "      <td>...</td>\n",
       "      <td>...</td>\n",
       "    </tr>\n",
       "    <tr>\n",
       "      <th>871</th>\n",
       "      <td>1</td>\n",
       "      <td>0</td>\n",
       "      <td>47.0</td>\n",
       "      <td>1</td>\n",
       "    </tr>\n",
       "    <tr>\n",
       "      <th>872</th>\n",
       "      <td>1</td>\n",
       "      <td>1</td>\n",
       "      <td>33.0</td>\n",
       "      <td>0</td>\n",
       "    </tr>\n",
       "    <tr>\n",
       "      <th>879</th>\n",
       "      <td>1</td>\n",
       "      <td>0</td>\n",
       "      <td>56.0</td>\n",
       "      <td>0</td>\n",
       "    </tr>\n",
       "    <tr>\n",
       "      <th>887</th>\n",
       "      <td>1</td>\n",
       "      <td>0</td>\n",
       "      <td>19.0</td>\n",
       "      <td>0</td>\n",
       "    </tr>\n",
       "    <tr>\n",
       "      <th>889</th>\n",
       "      <td>1</td>\n",
       "      <td>1</td>\n",
       "      <td>26.0</td>\n",
       "      <td>0</td>\n",
       "    </tr>\n",
       "  </tbody>\n",
       "</table>\n",
       "<p>183 rows × 4 columns</p>\n",
       "</div>"
      ],
      "text/plain": [
       "     Pclass  Sex   Age  SibSp\n",
       "1         1    0  38.0      1\n",
       "3         1    0  35.0      1\n",
       "6         1    1  54.0      0\n",
       "10        3    0   4.0      1\n",
       "11        1    0  58.0      0\n",
       "..      ...  ...   ...    ...\n",
       "871       1    0  47.0      1\n",
       "872       1    1  33.0      0\n",
       "879       1    0  56.0      0\n",
       "887       1    0  19.0      0\n",
       "889       1    1  26.0      0\n",
       "\n",
       "[183 rows x 4 columns]"
      ]
     },
     "execution_count": 12,
     "metadata": {},
     "output_type": "execute_result"
    }
   ],
   "source": [
    "X"
   ]
  },
  {
   "cell_type": "code",
   "execution_count": 13,
   "id": "6dfd5453",
   "metadata": {
    "execution": {
     "iopub.execute_input": "2024-08-11T18:24:19.318658Z",
     "iopub.status.busy": "2024-08-11T18:24:19.317991Z",
     "iopub.status.idle": "2024-08-11T18:24:19.326457Z",
     "shell.execute_reply": "2024-08-11T18:24:19.325269Z"
    },
    "id": "bBgzKeAT1n_I",
    "outputId": "283a18fe-803d-4bdc-8086-1bd95b2ea144",
    "papermill": {
     "duration": 0.020243,
     "end_time": "2024-08-11T18:24:19.328763",
     "exception": false,
     "start_time": "2024-08-11T18:24:19.308520",
     "status": "completed"
    },
    "tags": []
   },
   "outputs": [
    {
     "data": {
      "text/plain": [
       "1      1\n",
       "3      1\n",
       "6      0\n",
       "10     1\n",
       "11     1\n",
       "      ..\n",
       "871    1\n",
       "872    0\n",
       "879    1\n",
       "887    1\n",
       "889    1\n",
       "Name: Survived, Length: 183, dtype: int64"
      ]
     },
     "execution_count": 13,
     "metadata": {},
     "output_type": "execute_result"
    }
   ],
   "source": [
    "y"
   ]
  },
  {
   "cell_type": "code",
   "execution_count": 14,
   "id": "2af5def0",
   "metadata": {
    "execution": {
     "iopub.execute_input": "2024-08-11T18:24:19.347564Z",
     "iopub.status.busy": "2024-08-11T18:24:19.346730Z",
     "iopub.status.idle": "2024-08-11T18:24:19.351471Z",
     "shell.execute_reply": "2024-08-11T18:24:19.350431Z"
    },
    "id": "-5t8Ltre2ivi",
    "papermill": {
     "duration": 0.016287,
     "end_time": "2024-08-11T18:24:19.353512",
     "exception": false,
     "start_time": "2024-08-11T18:24:19.337225",
     "status": "completed"
    },
    "tags": []
   },
   "outputs": [],
   "source": [
    "# Splitting the dataset into training and testing sets"
   ]
  },
  {
   "cell_type": "code",
   "execution_count": 15,
   "id": "923a2b8e",
   "metadata": {
    "execution": {
     "iopub.execute_input": "2024-08-11T18:24:19.372047Z",
     "iopub.status.busy": "2024-08-11T18:24:19.371120Z",
     "iopub.status.idle": "2024-08-11T18:24:19.379795Z",
     "shell.execute_reply": "2024-08-11T18:24:19.378852Z"
    },
    "id": "GYzFSZgm04Iq",
    "papermill": {
     "duration": 0.020227,
     "end_time": "2024-08-11T18:24:19.381875",
     "exception": false,
     "start_time": "2024-08-11T18:24:19.361648",
     "status": "completed"
    },
    "tags": []
   },
   "outputs": [],
   "source": [
    "X_train, X_test, y_train, y_test = train_test_split(X, y, test_size=0.3, random_state=42)"
   ]
  },
  {
   "cell_type": "markdown",
   "id": "cd37062f",
   "metadata": {
    "id": "rEEauhkP3hJy",
    "papermill": {
     "duration": 0.007802,
     "end_time": "2024-08-11T18:24:19.397797",
     "exception": false,
     "start_time": "2024-08-11T18:24:19.389995",
     "status": "completed"
    },
    "tags": []
   },
   "source": [
    "## 2.Single Perceptron Implementation\n"
   ]
  },
  {
   "cell_type": "code",
   "execution_count": 16,
   "id": "d10937c0",
   "metadata": {
    "execution": {
     "iopub.execute_input": "2024-08-11T18:24:19.416275Z",
     "iopub.status.busy": "2024-08-11T18:24:19.415327Z",
     "iopub.status.idle": "2024-08-11T18:24:19.429500Z",
     "shell.execute_reply": "2024-08-11T18:24:19.428473Z"
    },
    "id": "ebT4189u1lWq",
    "papermill": {
     "duration": 0.025747,
     "end_time": "2024-08-11T18:24:19.431678",
     "exception": false,
     "start_time": "2024-08-11T18:24:19.405931",
     "status": "completed"
    },
    "tags": []
   },
   "outputs": [],
   "source": [
    "import numpy as np\n",
    "from sklearn.metrics import accuracy_score, precision_score, recall_score\n",
    "from sklearn.base import BaseEstimator, ClassifierMixin\n",
    "\n",
    "# Single Perceptron Implementation\n",
    "class Perceptron(BaseEstimator, ClassifierMixin):\n",
    "    def __init__(self, learning_rate=0.01, n_iterations=1000):\n",
    "        self.learning_rate = learning_rate\n",
    "        self.n_iterations = n_iterations\n",
    "\n",
    "    def initialize_weights(self, n_features):\n",
    "        self.weights = np.zeros(n_features)\n",
    "        self.bias = 0\n",
    "\n",
    "    def activation_function(self, x):\n",
    "        return np.where(x >= 0, 1, 0)\n",
    "\n",
    "    def weighted_sum(self, X):\n",
    "        return np.dot(X, self.weights) + self.bias\n",
    "\n",
    "    def update_weights(self, X, y, y_pred):\n",
    "        error = y - y_pred\n",
    "        self.weights += self.learning_rate * np.dot(X.T, error)\n",
    "        self.bias += self.learning_rate * np.sum(error)\n",
    "\n",
    "    def train(self, X, y):\n",
    "        n_samples, n_features = X.shape\n",
    "        self.initialize_weights(n_features)\n",
    "\n",
    "        for _ in range(self.n_iterations):\n",
    "            y_pred = self.activation_function(self.weighted_sum(X))\n",
    "            self.update_weights(X, y, y_pred)\n",
    "\n",
    "    def predict(self, X):\n",
    "        return self.activation_function(self.weighted_sum(X))\n"
   ]
  },
  {
   "cell_type": "code",
   "execution_count": 17,
   "id": "cc531af9",
   "metadata": {
    "execution": {
     "iopub.execute_input": "2024-08-11T18:24:19.450171Z",
     "iopub.status.busy": "2024-08-11T18:24:19.449380Z",
     "iopub.status.idle": "2024-08-11T18:24:20.109773Z",
     "shell.execute_reply": "2024-08-11T18:24:20.108677Z"
    },
    "id": "nZ3TumDG2ouz",
    "papermill": {
     "duration": 0.67249,
     "end_time": "2024-08-11T18:24:20.112366",
     "exception": false,
     "start_time": "2024-08-11T18:24:19.439876",
     "status": "completed"
    },
    "tags": []
   },
   "outputs": [],
   "source": [
    "# Training the perceptron\n",
    "perceptron = Perceptron()\n",
    "perceptron.train(X_train, y_train)"
   ]
  },
  {
   "cell_type": "code",
   "execution_count": 18,
   "id": "1cc1db67",
   "metadata": {
    "execution": {
     "iopub.execute_input": "2024-08-11T18:24:20.130518Z",
     "iopub.status.busy": "2024-08-11T18:24:20.129874Z",
     "iopub.status.idle": "2024-08-11T18:24:20.135205Z",
     "shell.execute_reply": "2024-08-11T18:24:20.134093Z"
    },
    "id": "ug0IXjUp3J55",
    "papermill": {
     "duration": 0.016801,
     "end_time": "2024-08-11T18:24:20.137423",
     "exception": false,
     "start_time": "2024-08-11T18:24:20.120622",
     "status": "completed"
    },
    "tags": []
   },
   "outputs": [],
   "source": [
    "# Testing the perceptron\n",
    "y_pred = perceptron.predict(X_test)"
   ]
  },
  {
   "cell_type": "code",
   "execution_count": 19,
   "id": "0a8197b7",
   "metadata": {
    "execution": {
     "iopub.execute_input": "2024-08-11T18:24:20.155529Z",
     "iopub.status.busy": "2024-08-11T18:24:20.155051Z",
     "iopub.status.idle": "2024-08-11T18:24:20.169107Z",
     "shell.execute_reply": "2024-08-11T18:24:20.168017Z"
    },
    "id": "f8XrjML03P4h",
    "outputId": "1fd2e110-05a5-4b9e-fc90-6cd0b37ea67f",
    "papermill": {
     "duration": 0.025875,
     "end_time": "2024-08-11T18:24:20.171622",
     "exception": false,
     "start_time": "2024-08-11T18:24:20.145747",
     "status": "completed"
    },
    "tags": []
   },
   "outputs": [
    {
     "name": "stdout",
     "output_type": "stream",
     "text": [
      "Accuracy: 0.6181818181818182\n",
      "Precision: 0.6296296296296297\n",
      "Recall: 0.9714285714285714\n"
     ]
    }
   ],
   "source": [
    "# Evaluating the model's performance\n",
    "accuracy = accuracy_score(y_test, y_pred)\n",
    "precision = precision_score(y_test, y_pred)\n",
    "recall = recall_score(y_test, y_pred)\n",
    "\n",
    "print(\"Accuracy:\", accuracy)\n",
    "print(\"Precision:\", precision)\n",
    "print(\"Recall:\", recall)"
   ]
  },
  {
   "cell_type": "markdown",
   "id": "513664ec",
   "metadata": {
    "id": "sISiTWNC3pnm",
    "papermill": {
     "duration": 0.008112,
     "end_time": "2024-08-11T18:24:20.188272",
     "exception": false,
     "start_time": "2024-08-11T18:24:20.180160",
     "status": "completed"
    },
    "tags": []
   },
   "source": [
    "## 3. Hyperparameter Tuning with GridSearchCV"
   ]
  },
  {
   "cell_type": "code",
   "execution_count": 20,
   "id": "605351c8",
   "metadata": {
    "execution": {
     "iopub.execute_input": "2024-08-11T18:24:20.207166Z",
     "iopub.status.busy": "2024-08-11T18:24:20.206261Z",
     "iopub.status.idle": "2024-08-11T18:24:20.215248Z",
     "shell.execute_reply": "2024-08-11T18:24:20.214298Z"
    },
    "id": "NZOWn9Ww8Rwl",
    "papermill": {
     "duration": 0.020672,
     "end_time": "2024-08-11T18:24:20.217318",
     "exception": false,
     "start_time": "2024-08-11T18:24:20.196646",
     "status": "completed"
    },
    "tags": []
   },
   "outputs": [],
   "source": [
    "from sklearn.base import BaseEstimator, ClassifierMixin\n",
    "\n",
    "class Perceptron(BaseEstimator, ClassifierMixin):\n",
    "    def __init__(self, learning_rate=0.01, n_iterations=1000):\n",
    "        self.learning_rate = learning_rate\n",
    "        self.n_iterations = n_iterations\n",
    "\n",
    "    def initialize_weights(self, n_features):\n",
    "        self.weights = np.zeros(n_features)\n",
    "        self.bias = 0\n",
    "\n",
    "    def activation_function(self, x):\n",
    "        return np.where(x >= 0, 1, 0)\n",
    "\n",
    "    def weighted_sum(self, X):\n",
    "        return np.dot(X, self.weights) + self.bias\n",
    "\n",
    "    def update_weights(self, X, y, y_pred):\n",
    "        error = y - y_pred\n",
    "        self.weights += self.learning_rate * np.dot(X.T, error)\n",
    "        self.bias += self.learning_rate * np.sum(error)\n",
    "\n",
    "    def fit(self, X, y):\n",
    "        n_samples, n_features = X.shape\n",
    "        self.initialize_weights(n_features)\n",
    "\n",
    "        for _ in range(self.n_iterations):\n",
    "            y_pred = self.activation_function(self.weighted_sum(X))\n",
    "            self.update_weights(X, y, y_pred)\n",
    "\n",
    "    def predict(self, X):\n",
    "        return self.activation_function(self.weighted_sum(X))\n"
   ]
  },
  {
   "cell_type": "code",
   "execution_count": 21,
   "id": "a82f8e03",
   "metadata": {
    "execution": {
     "iopub.execute_input": "2024-08-11T18:24:20.235487Z",
     "iopub.status.busy": "2024-08-11T18:24:20.235103Z",
     "iopub.status.idle": "2024-08-11T18:24:20.240076Z",
     "shell.execute_reply": "2024-08-11T18:24:20.239105Z"
    },
    "id": "o8Uoe0Ll3QxF",
    "papermill": {
     "duration": 0.016465,
     "end_time": "2024-08-11T18:24:20.242125",
     "exception": false,
     "start_time": "2024-08-11T18:24:20.225660",
     "status": "completed"
    },
    "tags": []
   },
   "outputs": [],
   "source": [
    "from sklearn.model_selection import GridSearchCV\n",
    "\n",
    "#define hyperparameter\n",
    "param_grid = {\n",
    "              'learning_rate': [0.0001,0.001,0.01,0.1,1.0],\n",
    "              'n_iterations':[10,50,100,200,500]\n",
    "              }"
   ]
  },
  {
   "cell_type": "code",
   "execution_count": 22,
   "id": "eddd3f4c",
   "metadata": {
    "execution": {
     "iopub.execute_input": "2024-08-11T18:24:20.260385Z",
     "iopub.status.busy": "2024-08-11T18:24:20.259998Z",
     "iopub.status.idle": "2024-08-11T18:24:20.264569Z",
     "shell.execute_reply": "2024-08-11T18:24:20.263598Z"
    },
    "id": "S3VduAhC5N24",
    "papermill": {
     "duration": 0.01606,
     "end_time": "2024-08-11T18:24:20.266572",
     "exception": false,
     "start_time": "2024-08-11T18:24:20.250512",
     "status": "completed"
    },
    "tags": []
   },
   "outputs": [],
   "source": [
    "# Initialize the perceptron model\n",
    "perceptron = Perceptron()"
   ]
  },
  {
   "cell_type": "code",
   "execution_count": 23,
   "id": "4cfbf42b",
   "metadata": {
    "execution": {
     "iopub.execute_input": "2024-08-11T18:24:20.284421Z",
     "iopub.status.busy": "2024-08-11T18:24:20.284014Z",
     "iopub.status.idle": "2024-08-11T18:24:28.432892Z",
     "shell.execute_reply": "2024-08-11T18:24:28.431812Z"
    },
    "id": "ZzDcwuLi4zMk",
    "outputId": "9c89f9de-0db0-4026-90d9-9b1c01221915",
    "papermill": {
     "duration": 8.160663,
     "end_time": "2024-08-11T18:24:28.435420",
     "exception": false,
     "start_time": "2024-08-11T18:24:20.274757",
     "status": "completed"
    },
    "tags": []
   },
   "outputs": [
    {
     "data": {
      "text/html": [
       "<style>#sk-container-id-1 {color: black;background-color: white;}#sk-container-id-1 pre{padding: 0;}#sk-container-id-1 div.sk-toggleable {background-color: white;}#sk-container-id-1 label.sk-toggleable__label {cursor: pointer;display: block;width: 100%;margin-bottom: 0;padding: 0.3em;box-sizing: border-box;text-align: center;}#sk-container-id-1 label.sk-toggleable__label-arrow:before {content: \"▸\";float: left;margin-right: 0.25em;color: #696969;}#sk-container-id-1 label.sk-toggleable__label-arrow:hover:before {color: black;}#sk-container-id-1 div.sk-estimator:hover label.sk-toggleable__label-arrow:before {color: black;}#sk-container-id-1 div.sk-toggleable__content {max-height: 0;max-width: 0;overflow: hidden;text-align: left;background-color: #f0f8ff;}#sk-container-id-1 div.sk-toggleable__content pre {margin: 0.2em;color: black;border-radius: 0.25em;background-color: #f0f8ff;}#sk-container-id-1 input.sk-toggleable__control:checked~div.sk-toggleable__content {max-height: 200px;max-width: 100%;overflow: auto;}#sk-container-id-1 input.sk-toggleable__control:checked~label.sk-toggleable__label-arrow:before {content: \"▾\";}#sk-container-id-1 div.sk-estimator input.sk-toggleable__control:checked~label.sk-toggleable__label {background-color: #d4ebff;}#sk-container-id-1 div.sk-label input.sk-toggleable__control:checked~label.sk-toggleable__label {background-color: #d4ebff;}#sk-container-id-1 input.sk-hidden--visually {border: 0;clip: rect(1px 1px 1px 1px);clip: rect(1px, 1px, 1px, 1px);height: 1px;margin: -1px;overflow: hidden;padding: 0;position: absolute;width: 1px;}#sk-container-id-1 div.sk-estimator {font-family: monospace;background-color: #f0f8ff;border: 1px dotted black;border-radius: 0.25em;box-sizing: border-box;margin-bottom: 0.5em;}#sk-container-id-1 div.sk-estimator:hover {background-color: #d4ebff;}#sk-container-id-1 div.sk-parallel-item::after {content: \"\";width: 100%;border-bottom: 1px solid gray;flex-grow: 1;}#sk-container-id-1 div.sk-label:hover label.sk-toggleable__label {background-color: #d4ebff;}#sk-container-id-1 div.sk-serial::before {content: \"\";position: absolute;border-left: 1px solid gray;box-sizing: border-box;top: 0;bottom: 0;left: 50%;z-index: 0;}#sk-container-id-1 div.sk-serial {display: flex;flex-direction: column;align-items: center;background-color: white;padding-right: 0.2em;padding-left: 0.2em;position: relative;}#sk-container-id-1 div.sk-item {position: relative;z-index: 1;}#sk-container-id-1 div.sk-parallel {display: flex;align-items: stretch;justify-content: center;background-color: white;position: relative;}#sk-container-id-1 div.sk-item::before, #sk-container-id-1 div.sk-parallel-item::before {content: \"\";position: absolute;border-left: 1px solid gray;box-sizing: border-box;top: 0;bottom: 0;left: 50%;z-index: -1;}#sk-container-id-1 div.sk-parallel-item {display: flex;flex-direction: column;z-index: 1;position: relative;background-color: white;}#sk-container-id-1 div.sk-parallel-item:first-child::after {align-self: flex-end;width: 50%;}#sk-container-id-1 div.sk-parallel-item:last-child::after {align-self: flex-start;width: 50%;}#sk-container-id-1 div.sk-parallel-item:only-child::after {width: 0;}#sk-container-id-1 div.sk-dashed-wrapped {border: 1px dashed gray;margin: 0 0.4em 0.5em 0.4em;box-sizing: border-box;padding-bottom: 0.4em;background-color: white;}#sk-container-id-1 div.sk-label label {font-family: monospace;font-weight: bold;display: inline-block;line-height: 1.2em;}#sk-container-id-1 div.sk-label-container {text-align: center;}#sk-container-id-1 div.sk-container {/* jupyter's `normalize.less` sets `[hidden] { display: none; }` but bootstrap.min.css set `[hidden] { display: none !important; }` so we also need the `!important` here to be able to override the default hidden behavior on the sphinx rendered scikit-learn.org. See: https://github.com/scikit-learn/scikit-learn/issues/21755 */display: inline-block !important;position: relative;}#sk-container-id-1 div.sk-text-repr-fallback {display: none;}</style><div id=\"sk-container-id-1\" class=\"sk-top-container\"><div class=\"sk-text-repr-fallback\"><pre>GridSearchCV(cv=3, estimator=Perceptron(),\n",
       "             param_grid={&#x27;learning_rate&#x27;: [0.0001, 0.001, 0.01, 0.1, 1.0],\n",
       "                         &#x27;n_iterations&#x27;: [10, 50, 100, 200, 500]},\n",
       "             scoring=&#x27;accuracy&#x27;)</pre><b>In a Jupyter environment, please rerun this cell to show the HTML representation or trust the notebook. <br />On GitHub, the HTML representation is unable to render, please try loading this page with nbviewer.org.</b></div><div class=\"sk-container\" hidden><div class=\"sk-item sk-dashed-wrapped\"><div class=\"sk-label-container\"><div class=\"sk-label sk-toggleable\"><input class=\"sk-toggleable__control sk-hidden--visually\" id=\"sk-estimator-id-1\" type=\"checkbox\" ><label for=\"sk-estimator-id-1\" class=\"sk-toggleable__label sk-toggleable__label-arrow\">GridSearchCV</label><div class=\"sk-toggleable__content\"><pre>GridSearchCV(cv=3, estimator=Perceptron(),\n",
       "             param_grid={&#x27;learning_rate&#x27;: [0.0001, 0.001, 0.01, 0.1, 1.0],\n",
       "                         &#x27;n_iterations&#x27;: [10, 50, 100, 200, 500]},\n",
       "             scoring=&#x27;accuracy&#x27;)</pre></div></div></div><div class=\"sk-parallel\"><div class=\"sk-parallel-item\"><div class=\"sk-item\"><div class=\"sk-label-container\"><div class=\"sk-label sk-toggleable\"><input class=\"sk-toggleable__control sk-hidden--visually\" id=\"sk-estimator-id-2\" type=\"checkbox\" ><label for=\"sk-estimator-id-2\" class=\"sk-toggleable__label sk-toggleable__label-arrow\">estimator: Perceptron</label><div class=\"sk-toggleable__content\"><pre>Perceptron()</pre></div></div></div><div class=\"sk-serial\"><div class=\"sk-item\"><div class=\"sk-estimator sk-toggleable\"><input class=\"sk-toggleable__control sk-hidden--visually\" id=\"sk-estimator-id-3\" type=\"checkbox\" ><label for=\"sk-estimator-id-3\" class=\"sk-toggleable__label sk-toggleable__label-arrow\">Perceptron</label><div class=\"sk-toggleable__content\"><pre>Perceptron()</pre></div></div></div></div></div></div></div></div></div></div>"
      ],
      "text/plain": [
       "GridSearchCV(cv=3, estimator=Perceptron(),\n",
       "             param_grid={'learning_rate': [0.0001, 0.001, 0.01, 0.1, 1.0],\n",
       "                         'n_iterations': [10, 50, 100, 200, 500]},\n",
       "             scoring='accuracy')"
      ]
     },
     "execution_count": 23,
     "metadata": {},
     "output_type": "execute_result"
    }
   ],
   "source": [
    "#Perform grid search with cross-validation\n",
    "grid_search = GridSearchCV(estimator=perceptron, param_grid=param_grid, cv=3, scoring='accuracy')\n",
    "grid_search.fit(X_train, y_train)"
   ]
  },
  {
   "cell_type": "code",
   "execution_count": 24,
   "id": "e0244ea4",
   "metadata": {
    "execution": {
     "iopub.execute_input": "2024-08-11T18:24:28.454791Z",
     "iopub.status.busy": "2024-08-11T18:24:28.454431Z",
     "iopub.status.idle": "2024-08-11T18:24:28.460135Z",
     "shell.execute_reply": "2024-08-11T18:24:28.459037Z"
    },
    "id": "FfFtDAEX5Ysb",
    "outputId": "8ea665b3-aadb-4863-b10b-e1737b3215d7",
    "papermill": {
     "duration": 0.017848,
     "end_time": "2024-08-11T18:24:28.462431",
     "exception": false,
     "start_time": "2024-08-11T18:24:28.444583",
     "status": "completed"
    },
    "tags": []
   },
   "outputs": [
    {
     "name": "stdout",
     "output_type": "stream",
     "text": [
      "Best Hyperparameters: {'learning_rate': 0.0001, 'n_iterations': 50}\n"
     ]
    }
   ],
   "source": [
    "# Get the best hyperparameters and the best accuracy score\n",
    "best_params = grid_search.best_params_\n",
    "\n",
    "print(\"Best Hyperparameters:\", best_params)"
   ]
  },
  {
   "cell_type": "code",
   "execution_count": 25,
   "id": "5788ade1",
   "metadata": {
    "execution": {
     "iopub.execute_input": "2024-08-11T18:24:28.482213Z",
     "iopub.status.busy": "2024-08-11T18:24:28.481329Z",
     "iopub.status.idle": "2024-08-11T18:24:28.527646Z",
     "shell.execute_reply": "2024-08-11T18:24:28.526579Z"
    },
    "id": "QQ1fTb-9-BYO",
    "papermill": {
     "duration": 0.059003,
     "end_time": "2024-08-11T18:24:28.530114",
     "exception": false,
     "start_time": "2024-08-11T18:24:28.471111",
     "status": "completed"
    },
    "tags": []
   },
   "outputs": [],
   "source": [
    "# Initialize the perceptron model with the best parameters\n",
    "best_perceptron = Perceptron(learning_rate= best_params['learning_rate'],\n",
    "                             n_iterations=best_params['n_iterations'])\n",
    "\n",
    "# Fit the perceptron model to the entire training set\n",
    "best_perceptron.fit(X_train, y_train)\n"
   ]
  },
  {
   "cell_type": "code",
   "execution_count": 26,
   "id": "3158f4f5",
   "metadata": {
    "execution": {
     "iopub.execute_input": "2024-08-11T18:24:28.549430Z",
     "iopub.status.busy": "2024-08-11T18:24:28.549031Z",
     "iopub.status.idle": "2024-08-11T18:24:28.554180Z",
     "shell.execute_reply": "2024-08-11T18:24:28.553197Z"
    },
    "id": "KrU508Rx-hOx",
    "papermill": {
     "duration": 0.017262,
     "end_time": "2024-08-11T18:24:28.556334",
     "exception": false,
     "start_time": "2024-08-11T18:24:28.539072",
     "status": "completed"
    },
    "tags": []
   },
   "outputs": [],
   "source": [
    "# Make predictions on the test set\n",
    "y_pred1=best_perceptron.predict(X_test)"
   ]
  },
  {
   "cell_type": "code",
   "execution_count": 27,
   "id": "6c8980b5",
   "metadata": {
    "execution": {
     "iopub.execute_input": "2024-08-11T18:24:28.575850Z",
     "iopub.status.busy": "2024-08-11T18:24:28.575065Z",
     "iopub.status.idle": "2024-08-11T18:24:28.582189Z",
     "shell.execute_reply": "2024-08-11T18:24:28.581109Z"
    },
    "id": "-8xSwaUA-s4q",
    "outputId": "d878828c-de54-4228-8ddb-54bde5cf7808",
    "papermill": {
     "duration": 0.018976,
     "end_time": "2024-08-11T18:24:28.584319",
     "exception": false,
     "start_time": "2024-08-11T18:24:28.565343",
     "status": "completed"
    },
    "tags": []
   },
   "outputs": [
    {
     "name": "stdout",
     "output_type": "stream",
     "text": [
      "Accuracy: 0.36363636363636365\n"
     ]
    }
   ],
   "source": [
    "# Evaluate the model\n",
    "accuracy = accuracy_score(y_test, y_pred1)\n",
    "print(f\"Accuracy: {accuracy}\")"
   ]
  }
 ],
 "metadata": {
  "colab": {
   "gpuType": "T4",
   "provenance": []
  },
  "kaggle": {
   "accelerator": "none",
   "dataSources": [
    {
     "datasetId": 5529516,
     "sourceId": 9153521,
     "sourceType": "datasetVersion"
    }
   ],
   "dockerImageVersionId": 30746,
   "isGpuEnabled": false,
   "isInternetEnabled": true,
   "language": "python",
   "sourceType": "notebook"
  },
  "kernelspec": {
   "display_name": "Python 3",
   "language": "python",
   "name": "python3"
  },
  "language_info": {
   "codemirror_mode": {
    "name": "ipython",
    "version": 3
   },
   "file_extension": ".py",
   "mimetype": "text/x-python",
   "name": "python",
   "nbconvert_exporter": "python",
   "pygments_lexer": "ipython3",
   "version": "3.10.13"
  },
  "papermill": {
   "default_parameters": {},
   "duration": 14.626807,
   "end_time": "2024-08-11T18:24:29.114052",
   "environment_variables": {},
   "exception": null,
   "input_path": "__notebook__.ipynb",
   "output_path": "__notebook__.ipynb",
   "parameters": {},
   "start_time": "2024-08-11T18:24:14.487245",
   "version": "2.5.0"
  }
 },
 "nbformat": 4,
 "nbformat_minor": 5
}
